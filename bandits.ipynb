{
 "cells": [
  {
   "cell_type": "code",
   "execution_count": 11,
   "metadata": {},
   "outputs": [],
   "source": [
    "from bandits2 import Arm,Bandits\n",
    "import numpy as np\n",
    "import importlib"
   ]
  },
  {
   "cell_type": "code",
   "execution_count": 33,
   "metadata": {},
   "outputs": [
    {
     "data": {
      "text/plain": [
       "<module 'bandits2' from '/Users/maxchiswick/ml/bandits/bandits2.py'>"
      ]
     },
     "execution_count": 33,
     "metadata": {},
     "output_type": "execute_result"
    }
   ],
   "source": [
    "importlib.reload(bandits2)"
   ]
  },
  {
   "cell_type": "code",
   "execution_count": 34,
   "metadata": {},
   "outputs": [],
   "source": [
    "from bandits2 import EpsilonGreedy"
   ]
  },
  {
   "cell_type": "code",
   "execution_count": 35,
   "metadata": {},
   "outputs": [
    {
     "data": {
      "text/plain": [
       "-0.24351486114843102"
      ]
     },
     "execution_count": 35,
     "metadata": {},
     "output_type": "execute_result"
    }
   ],
   "source": [
    "e = EpsilonGreedy(10, e=0, n=n)\n",
    "e.pull()\n",
    "u = UCB()\n",
    "u.pull()\n",
    "ts = ThompsonSampling()\n",
    "ts.pull()"
   ]
  },
  {
   "cell_type": "code",
   "execution_count": 36,
   "metadata": {},
   "outputs": [
    {
     "data": {
      "text/plain": [
       "0.1125451005401216"
      ]
     },
     "execution_count": 36,
     "metadata": {},
     "output_type": "execute_result"
    }
   ],
   "source": [
    "\\"
   ]
  },
  {
   "cell_type": "code",
   "execution_count": 8,
   "metadata": {},
   "outputs": [
    {
     "ename": "NameError",
     "evalue": "name 'n' is not defined",
     "output_type": "error",
     "traceback": [
      "\u001b[0;31m---------------------------------------------------------------------------\u001b[0m",
      "\u001b[0;31mNameError\u001b[0m                                 Traceback (most recent call last)",
      "\u001b[0;32m<ipython-input-8-6b25e1683289>\u001b[0m in \u001b[0;36m<module>\u001b[0;34m\u001b[0m\n\u001b[1;32m     34\u001b[0m \u001b[0;32mfor\u001b[0m \u001b[0mi\u001b[0m \u001b[0;32min\u001b[0m \u001b[0mrange\u001b[0m\u001b[0;34m(\u001b[0m\u001b[0mruns\u001b[0m\u001b[0;34m)\u001b[0m\u001b[0;34m:\u001b[0m\u001b[0;34m\u001b[0m\u001b[0;34m\u001b[0m\u001b[0m\n\u001b[1;32m     35\u001b[0m     \u001b[0mb\u001b[0m \u001b[0;34m=\u001b[0m \u001b[0mBandits\u001b[0m\u001b[0;34m(\u001b[0m\u001b[0;36m10\u001b[0m\u001b[0;34m,\u001b[0m \u001b[0me\u001b[0m\u001b[0;34m=\u001b[0m\u001b[0;36m0\u001b[0m\u001b[0;34m,\u001b[0m \u001b[0mn\u001b[0m\u001b[0;34m=\u001b[0m\u001b[0mn\u001b[0m\u001b[0;34m)\u001b[0m\u001b[0;34m\u001b[0m\u001b[0;34m\u001b[0m\u001b[0m\n\u001b[0;32m---> 36\u001b[0;31m     \u001b[0mb\u001b[0m\u001b[0;34m.\u001b[0m\u001b[0minitial_pulls\u001b[0m\u001b[0;34m(\u001b[0m\u001b[0;34m)\u001b[0m\u001b[0;34m\u001b[0m\u001b[0;34m\u001b[0m\u001b[0m\n\u001b[0m\u001b[1;32m     37\u001b[0m     \u001b[0;32mfor\u001b[0m \u001b[0mj\u001b[0m \u001b[0;32min\u001b[0m \u001b[0mrange\u001b[0m\u001b[0;34m(\u001b[0m\u001b[0mtimesteps\u001b[0m\u001b[0;34m)\u001b[0m\u001b[0;34m:\u001b[0m\u001b[0;34m\u001b[0m\u001b[0;34m\u001b[0m\u001b[0m\n\u001b[1;32m     38\u001b[0m         \u001b[0mb\u001b[0m\u001b[0;34m.\u001b[0m\u001b[0mpull\u001b[0m\u001b[0;34m(\u001b[0m\u001b[0;34m)\u001b[0m\u001b[0;34m\u001b[0m\u001b[0;34m\u001b[0m\u001b[0m\n",
      "\u001b[0;32m~/ml/bandits/bandits2.py\u001b[0m in \u001b[0;36minitial_pulls\u001b[0;34m(self)\u001b[0m\n\u001b[1;32m     39\u001b[0m         \u001b[0;32mdef\u001b[0m \u001b[0minitial_pulls\u001b[0m\u001b[0;34m(\u001b[0m\u001b[0mself\u001b[0m\u001b[0;34m)\u001b[0m\u001b[0;34m:\u001b[0m\u001b[0;34m\u001b[0m\u001b[0;34m\u001b[0m\u001b[0m\n\u001b[1;32m     40\u001b[0m                 \u001b[0;32mfor\u001b[0m \u001b[0marm\u001b[0m \u001b[0;32min\u001b[0m \u001b[0mrange\u001b[0m\u001b[0;34m(\u001b[0m\u001b[0;36m0\u001b[0m\u001b[0;34m,\u001b[0m \u001b[0mself\u001b[0m\u001b[0;34m.\u001b[0m\u001b[0marms\u001b[0m\u001b[0;34m)\u001b[0m\u001b[0;34m:\u001b[0m\u001b[0;34m\u001b[0m\u001b[0;34m\u001b[0m\u001b[0m\n\u001b[0;32m---> 41\u001b[0;31m                         \u001b[0;32mfor\u001b[0m \u001b[0mi\u001b[0m \u001b[0;32min\u001b[0m \u001b[0mrange\u001b[0m\u001b[0;34m(\u001b[0m\u001b[0;36m0\u001b[0m\u001b[0;34m,\u001b[0m \u001b[0mself\u001b[0m\u001b[0;34m.\u001b[0m\u001b[0mn\u001b[0m\u001b[0;34m)\u001b[0m\u001b[0;34m:\u001b[0m\u001b[0;34m\u001b[0m\u001b[0;34m\u001b[0m\u001b[0m\n\u001b[0m\u001b[1;32m     42\u001b[0m                                 \u001b[0mself\u001b[0m\u001b[0;34m.\u001b[0m\u001b[0mpull\u001b[0m\u001b[0;34m(\u001b[0m\u001b[0marm\u001b[0m\u001b[0;34m)\u001b[0m\u001b[0;34m\u001b[0m\u001b[0;34m\u001b[0m\u001b[0m\n\u001b[1;32m     43\u001b[0m \u001b[0;34m\u001b[0m\u001b[0m\n",
      "\u001b[0;31mNameError\u001b[0m: name 'n' is not defined"
     ]
    }
   ],
   "source": [
    "n = 10\n",
    "timesteps = 1000\n",
    "runs = 2000\n",
    "\n",
    "avg_rewarde000 = np.zeros((timesteps, runs))\n",
    "avg_rewarde000ip = np.zeros((timesteps, runs))\n",
    "avg_rewarde001 = np.zeros((timesteps, runs))\n",
    "avg_rewarde001ip = np.zeros((timesteps, runs))\n",
    "avg_rewarde010 = np.zeros((timesteps, runs))\n",
    "avg_rewarde010ip = np.zeros((timesteps, runs))\n",
    "avg_rewarde050 = np.zeros((timesteps, runs))\n",
    "avg_rewarde050ip = np.zeros((timesteps, runs))\n",
    "\n",
    "\n",
    "avg_regrete000 = np.zeros((timesteps, runs))\n",
    "avg_regrete000ip = np.zeros((timesteps, runs))\n",
    "avg_regrete001 = np.zeros((timesteps, runs))\n",
    "avg_regrete001ip = np.zeros((timesteps, runs))\n",
    "avg_regrete010 = np.zeros((timesteps, runs))\n",
    "avg_regrete010ip = np.zeros((timesteps, runs))\n",
    "avg_regrete050 = np.zeros((timesteps, runs))\n",
    "avg_regrete050ip = np.zeros((timesteps, runs))\n",
    "\n",
    "#b = Bandits(10, e=.1, n=n)\n",
    "\n",
    "for i in range(runs):\n",
    "    b = Bandits(10, e=0, n=n)\n",
    "    #b.initial_pulls()\n",
    "    for j in range(timesteps):\n",
    "        b.pull()\n",
    "        avg_rewarde000[j,i] = b.average_reward()\n",
    "        avg_regrete000[j,i] = b.average_regret()\n",
    "\n",
    "for i in range(runs):\n",
    "    b = Bandits(10, e=0, n=n)\n",
    "    b.initial_pulls()\n",
    "    for j in range(timesteps):\n",
    "        b.pull()\n",
    "        avg_rewarde000ip[j,i] = b.average_reward()\n",
    "        avg_regrete000ip[j,i] = b.average_regret()\n",
    "\n",
    "for i in range(runs):\n",
    "    b = Bandits(10, e=0.01, n=n)\n",
    "    #b.initial_pulls()\n",
    "    for j in range(timesteps):\n",
    "        b.pull()\n",
    "        avg_rewarde001[j,i] = b.average_reward()\n",
    "        avg_regrete001[j,i] = b.average_regret()\n",
    "\n",
    "for i in range(runs):\n",
    "    b = Bandits(10, e=0.01, n=n)\n",
    "    b.initial_pulls()\n",
    "    for j in range(timesteps):\n",
    "        b.pull()\n",
    "        avg_rewarde001ip[j,i] = b.average_reward()\n",
    "        avg_regrete001ip[j,i] = b.average_regret()\n",
    "\n",
    "for i in range(runs):\n",
    "    b = Bandits(10, e=0.1, n=n)\n",
    "    #b.initial_pulls()\n",
    "    for j in range(timesteps):\n",
    "        b.pull()\n",
    "        avg_rewarde010[j,i] = b.average_reward()\n",
    "        avg_regrete010[j,i] = b.average_regret()\n",
    "\n",
    "for i in range(runs):\n",
    "    b = Bandits(10, e=0.1, n=n)\n",
    "    b.initial_pulls()\n",
    "    for j in range(timesteps):\n",
    "        b.pull()\n",
    "        avg_rewarde010ip[j,i] = b.average_reward()\n",
    "        avg_regrete010ip[j,i] = b.average_regret()\n",
    "\n",
    "for i in range(runs):\n",
    "    b = Bandits(10, e=0.1, n=n)\n",
    "    #b.initial_pulls()\n",
    "    for j in range(timesteps):\n",
    "        b.pull()\n",
    "        avg_rewarde050[j,i] = b.average_reward()\n",
    "        avg_regrete050[j,i] = b.average_regret()\n",
    "\n",
    "\n",
    "for i in range(runs):\n",
    "    b = Bandits(10, e=0.1, n=n)\n",
    "    b.initial_pulls()\n",
    "    for j in range(timesteps):\n",
    "        b.pull()\n",
    "        avg_rewarde050ip[j,i] = b.average_reward()\n",
    "        avg_regrete050ip[j,i] = b.average_regret()\n",
    "#print(avg_reward)"
   ]
  },
  {
   "cell_type": "code",
   "execution_count": null,
   "metadata": {},
   "outputs": [],
   "source": [
    "plt.figure(figsize=(15, 4), dpi=100)\n",
    "plt.plot(np.arange(timesteps),np.mean(avg_rewarde000, axis=1), color='green', label ='epsilon = 0 (greedy)')\n",
    "plt.plot(np.arange(timesteps),np.mean(avg_rewarde001, axis=1), color='red', label = 'epsilon = 0.01')\n",
    "plt.plot(np.arange(timesteps),np.mean(avg_rewarde010, axis=1), color='blue', label = 'epsilon = 0.1')\n",
    "plt.plot(np.arange(timesteps),np.mean(avg_rewarde050, axis=1), color='orange', label = 'epsilon = 0.5')\n",
    "plt.plot(np.arange(timesteps),np.mean(avg_rewarde000ip, axis=1), color='green', label ='epsilon = 0 (greedy)', ls = 'dashed')\n",
    "plt.plot(np.arange(timesteps),np.mean(avg_rewarde001ip, axis=1), color='red', label = 'epsilon = 0.01', ls = 'dashed')\n",
    "plt.plot(np.arange(timesteps),np.mean(avg_rewarde010ip, axis=1), color='blue', label = 'epsilon = 0.1', ls = 'dashed')\n",
    "plt.plot(np.arange(timesteps),np.mean(avg_rewarde050ip, axis=1), color='orange', label = 'epsilon = 0.5', ls = 'dashed')\n",
    "plt.ylabel('Average reward')\n",
    "plt.xlabel('Steps')\n",
    "plt.legend(loc='lower left')\n",
    "plt.show()"
   ]
  },
  {
   "cell_type": "code",
   "execution_count": null,
   "metadata": {},
   "outputs": [],
   "source": [
    "plt.figure(figsize=(15, 4), dpi=100)\n",
    "plt.plot(np.arange(timesteps),np.mean(avg_regrete000, axis=1), color='green', label ='epsilon = 0 (greedy)')\n",
    "plt.plot(np.arange(timesteps),np.mean(avg_regrete001, axis=1), color='red', label = 'epsilon = 0.01')\n",
    "plt.plot(np.arange(timesteps),np.mean(avg_regrete010, axis=1), color='blue', label = 'epsilon = 0.1')\n",
    "plt.plot(np.arange(timesteps),np.mean(avg_regrete050, axis=1), color='orange', label = 'epsilon = 0.5')\n",
    "plt.plot(np.arange(timesteps),np.mean(avg_regrete000ip, axis=1), color='green', label ='epsilon = 0 (greedy)', ls = 'dashed')\n",
    "plt.plot(np.arange(timesteps),np.mean(avg_regrete001ip, axis=1), color='red', label = 'epsilon = 0.01', ls = 'dashed')\n",
    "plt.plot(np.arange(timesteps),np.mean(avg_regrete010ip, axis=1), color='blue', label = 'epsilon = 0.1', ls = 'dashed')\n",
    "plt.plot(np.arange(timesteps),np.mean(avg_regrete050ip, axis=1), color='orange', label = 'epsilon = 0.5', ls = 'dashed')\n",
    "plt.ylabel('Average regret')\n",
    "plt.xlabel('Steps')\n",
    "plt.legend(loc='lower left')\n",
    "plt.show()"
   ]
  }
 ],
 "metadata": {
  "kernelspec": {
   "display_name": "Python 3",
   "language": "python",
   "name": "python3"
  },
  "language_info": {
   "codemirror_mode": {
    "name": "ipython",
    "version": 3
   },
   "file_extension": ".py",
   "mimetype": "text/x-python",
   "name": "python",
   "nbconvert_exporter": "python",
   "pygments_lexer": "ipython3",
   "version": "3.7.1"
  }
 },
 "nbformat": 4,
 "nbformat_minor": 2
}
